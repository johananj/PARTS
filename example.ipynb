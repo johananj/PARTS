{
 "cells": [
  {
   "cell_type": "markdown",
   "id": "55ed7806-cd41-4ede-b57d-d116432b5aa2",
   "metadata": {},
   "source": [
    "# Data Preparation\n",
    "- Import the DataPrep class.\n",
    "- Create an instace of Dataprep, with appropriate trainfile and labelfile."
   ]
  },
  {
   "cell_type": "code",
   "execution_count": null,
   "id": "5812a743-d588-40ad-a582-968795e1b535",
   "metadata": {},
   "outputs": [],
   "source": [
    "from parts.sleepdetect.dataprep import DataPrep\n",
    "print(DataPrep)"
   ]
  },
  {
   "cell_type": "code",
   "execution_count": null,
   "id": "a0febb63-aec5-43c0-8e8d-5e4c37a1ac42",
   "metadata": {},
   "outputs": [],
   "source": [
    "trainfile_path = '../detect-sleep/train_series.parquet'\n",
    "trainlabelfile_path = '../detect-sleep/train_events.csv'\n",
    "pdp = DataPrep(trainfile_path, trainlabelfile_path)"
   ]
  },
  {
   "cell_type": "markdown",
   "id": "827c2644-8e10-48f8-8e04-0bdcc61d7fb0",
   "metadata": {},
   "source": [
    "# Training\n",
    "- Import functions from the Training Module.\n",
    "- Run model training with appropriate parameters.\n",
    "- Parameters: the parts dataprep object, checkpoint folder."
   ]
  },
  {
   "cell_type": "code",
   "execution_count": null,
   "id": "e29a678a-f884-4a87-893c-f9e87f791c85",
   "metadata": {},
   "outputs": [],
   "source": [
    "from parts.train import *"
   ]
  },
  {
   "cell_type": "code",
   "execution_count": null,
   "id": "59a57184-51bb-4424-9b93-f935e184830c",
   "metadata": {},
   "outputs": [],
   "source": [
    "model_training(pdp,'./checkpoints/v00')"
   ]
  },
  {
   "cell_type": "markdown",
   "id": "57662207-e655-43a6-a61d-4ebefebdb05c",
   "metadata": {},
   "source": [
    "# Testing\n",
    "- Import functions from the Testing module.\n",
    "- Test either one group, or all of them."
   ]
  },
  {
   "cell_type": "code",
   "execution_count": null,
   "id": "bc4e4fbc-5528-48b2-b24b-bffd0630df9c",
   "metadata": {},
   "outputs": [],
   "source": [
    "from parts.sleepdetect.test import *"
   ]
  },
  {
   "cell_type": "code",
   "execution_count": null,
   "id": "0d1aecfd-3fc0-4ed2-9e84-8cb3d68b0fe6",
   "metadata": {},
   "outputs": [],
   "source": [
    "test_one(pdp,'./checkpoints/v00/ckpt-loss=0.25', group_idx=pdp.test_idxs[0])"
   ]
  },
  {
   "cell_type": "code",
   "execution_count": null,
   "id": "2bcace20-124f-405c-9411-0fd2b68590c8",
   "metadata": {},
   "outputs": [],
   "source": [
    "test_all(pdp,'./checkpoints/v00/ckpt-loss=0.25')"
   ]
  }
 ],
 "metadata": {
  "kernelspec": {
   "display_name": "Python 3 (ipykernel)",
   "language": "python",
   "name": "python3"
  },
  "language_info": {
   "codemirror_mode": {
    "name": "ipython",
    "version": 3
   },
   "file_extension": ".py",
   "mimetype": "text/x-python",
   "name": "python",
   "nbconvert_exporter": "python",
   "pygments_lexer": "ipython3",
   "version": "3.9.18"
  }
 },
 "nbformat": 4,
 "nbformat_minor": 5
}
